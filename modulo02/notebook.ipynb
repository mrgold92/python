{
 "metadata": {
  "language_info": {
   "codemirror_mode": {
    "name": "ipython",
    "version": 3
   },
   "file_extension": ".py",
   "mimetype": "text/x-python",
   "name": "python",
   "nbconvert_exporter": "python",
   "pygments_lexer": "ipython3",
   "version": "3.9.4"
  },
  "orig_nbformat": 2,
  "kernelspec": {
   "name": "python394jvsc74a57bd0d65f8af9b1347936d5c0a715a1a101b7602968bee42a1bc2161adfc924f1cbb0",
   "display_name": "Python 3.9.4 64-bit"
  },
  "metadata": {
   "interpreter": {
    "hash": "d65f8af9b1347936d5c0a715a1a101b7602968bee42a1bc2161adfc924f1cbb0"
   }
  }
 },
 "nbformat": 4,
 "nbformat_minor": 2,
 "cells": [
  {
   "source": [
    "## Tipos de datos"
   ],
   "cell_type": "markdown",
   "metadata": {}
  },
  {
   "cell_type": "code",
   "execution_count": 1,
   "metadata": {},
   "outputs": [
    {
     "output_type": "stream",
     "name": "stdout",
     "text": [
      "10\n20\n30\nSaludo: Hola a todos !!\n<class 'int'>\n<class 'str'>\n"
     ]
    }
   ],
   "source": [
    "numero = 10\n",
    "Numero = 20\n",
    "saludo = \"Hola a todos !!\"\n",
    "\n",
    "print(numero)\n",
    "print(Numero)\n",
    "print(numero+Numero)\n",
    "print(\"Saludo: \" +saludo)\n",
    "\n",
    "print(type(numero))\n",
    "print(type(saludo))"
   ]
  },
  {
   "source": [
    "## Asignación simultánea"
   ],
   "cell_type": "markdown",
   "metadata": {}
  },
  {
   "cell_type": "code",
   "execution_count": 2,
   "metadata": {},
   "outputs": [
    {
     "output_type": "stream",
     "name": "stdout",
     "text": [
      "5\n10\n"
     ]
    }
   ],
   "source": [
    "a = 10\n",
    "b = 5\n",
    "\n",
    "a,b = b,a\n",
    "\n",
    "print(a)\n",
    "print(b)"
   ]
  },
  {
   "source": [
    "## Casting de tipos"
   ],
   "cell_type": "markdown",
   "metadata": {}
  },
  {
   "cell_type": "code",
   "execution_count": 4,
   "metadata": {},
   "outputs": [
    {
     "output_type": "stream",
     "name": "stdout",
     "text": [
      "Número: 5\n25\n25.7\n25\n"
     ]
    }
   ],
   "source": [
    "a = 5\n",
    "b = \"25\"\n",
    "c = \"25.7\"\n",
    "d = 25.8999\n",
    "print(\"Número: \" + str(a))\n",
    "print(int(b))\n",
    "print(float(c))\n",
    "print(int(d))"
   ]
  },
  {
   "cell_type": "code",
   "execution_count": null,
   "metadata": {},
   "outputs": [],
   "source": []
  }
 ]
}